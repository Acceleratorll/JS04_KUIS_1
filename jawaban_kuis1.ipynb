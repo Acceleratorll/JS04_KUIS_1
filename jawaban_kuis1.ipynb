{
 "cells": [
  {
   "cell_type": "markdown",
   "metadata": {},
   "source": [
    "1. Pastikan semua variabel kategorial diolah dengan baik. (Gunakan fitur mapping pada pandas)"
   ]
  },
  {
   "cell_type": "code",
   "execution_count": 120,
   "metadata": {},
   "outputs": [
    {
     "data": {
      "text/html": [
       "<div>\n",
       "<style scoped>\n",
       "    .dataframe tbody tr th:only-of-type {\n",
       "        vertical-align: middle;\n",
       "    }\n",
       "\n",
       "    .dataframe tbody tr th {\n",
       "        vertical-align: top;\n",
       "    }\n",
       "\n",
       "    .dataframe thead th {\n",
       "        text-align: right;\n",
       "    }\n",
       "</style>\n",
       "<table border=\"1\" class=\"dataframe\">\n",
       "  <thead>\n",
       "    <tr style=\"text-align: right;\">\n",
       "      <th></th>\n",
       "      <th>age</th>\n",
       "      <th>sex</th>\n",
       "      <th>bmi</th>\n",
       "      <th>children</th>\n",
       "      <th>smoker</th>\n",
       "      <th>region</th>\n",
       "      <th>charges</th>\n",
       "    </tr>\n",
       "  </thead>\n",
       "  <tbody>\n",
       "    <tr>\n",
       "      <th>0</th>\n",
       "      <td>19</td>\n",
       "      <td>0</td>\n",
       "      <td>27.900</td>\n",
       "      <td>0</td>\n",
       "      <td>1</td>\n",
       "      <td>0</td>\n",
       "      <td>16884.92400</td>\n",
       "    </tr>\n",
       "    <tr>\n",
       "      <th>1</th>\n",
       "      <td>18</td>\n",
       "      <td>1</td>\n",
       "      <td>33.770</td>\n",
       "      <td>1</td>\n",
       "      <td>0</td>\n",
       "      <td>1</td>\n",
       "      <td>1725.55230</td>\n",
       "    </tr>\n",
       "    <tr>\n",
       "      <th>2</th>\n",
       "      <td>28</td>\n",
       "      <td>1</td>\n",
       "      <td>33.000</td>\n",
       "      <td>3</td>\n",
       "      <td>0</td>\n",
       "      <td>1</td>\n",
       "      <td>4449.46200</td>\n",
       "    </tr>\n",
       "    <tr>\n",
       "      <th>3</th>\n",
       "      <td>33</td>\n",
       "      <td>1</td>\n",
       "      <td>22.705</td>\n",
       "      <td>0</td>\n",
       "      <td>0</td>\n",
       "      <td>2</td>\n",
       "      <td>21984.47061</td>\n",
       "    </tr>\n",
       "    <tr>\n",
       "      <th>4</th>\n",
       "      <td>32</td>\n",
       "      <td>1</td>\n",
       "      <td>28.880</td>\n",
       "      <td>0</td>\n",
       "      <td>0</td>\n",
       "      <td>2</td>\n",
       "      <td>3866.85520</td>\n",
       "    </tr>\n",
       "  </tbody>\n",
       "</table>\n",
       "</div>"
      ],
      "text/plain": [
       "   age  sex     bmi  children  smoker  region      charges\n",
       "0   19    0  27.900         0       1       0  16884.92400\n",
       "1   18    1  33.770         1       0       1   1725.55230\n",
       "2   28    1  33.000         3       0       1   4449.46200\n",
       "3   33    1  22.705         0       0       2  21984.47061\n",
       "4   32    1  28.880         0       0       2   3866.85520"
      ]
     },
     "execution_count": 120,
     "metadata": {},
     "output_type": "execute_result"
    }
   ],
   "source": [
    "from sklearn.model_selection import train_test_split\n",
    "from sklearn.naive_bayes import MultinomialNB\n",
    "from sklearn.feature_extraction.text import CountVectorizer\n",
    "from statsmodels.stats.outliers_influence import variance_inflation_factor\n",
    "from sklearn.metrics import r2_score\n",
    "\n",
    "import statsmodels.api as sm\n",
    "import pandas as pd\n",
    "import numpy as np\n",
    "\n",
    "data = pd.read_csv('data/insurance.csv')\n",
    "\n",
    "# print(data['region'].value_counts())\n",
    "# print(data['sex'].value_counts())\n",
    "\n",
    "sex_labels = {\n",
    "    'female': 0,\n",
    "    'male': 1\n",
    "}\n",
    "\n",
    "smoker_labels = {\n",
    "    'yes': 1,\n",
    "    'no': 0\n",
    "}\n",
    "\n",
    "region_labels = {\n",
    "    'southwest': 0,\n",
    "    'southeast': 1,\n",
    "    'northwest': 2,\n",
    "    'northeast': 3\n",
    "}\n",
    "\n",
    "\n",
    "data['sex'] = data['sex'].map(sex_labels)\n",
    "data['smoker'] = data['smoker'].map(smoker_labels)\n",
    "data['region'] = data['region'].map(region_labels)\n",
    "\n",
    "data.head()"
   ]
  },
  {
   "cell_type": "markdown",
   "metadata": {},
   "source": [
    "2. Cek kondisi multicollinearity untuk semua variabel independen. Jika ada, antar variabel apakah itu?\n",
    "3. Pastikan model menggunakan variabel yang tidak memiliki nilai multicollinearity yang tinggi\n",
    "4. (Hints) Anda dapat menggunakan nilai ***Variance Inflation Factor (VIF)*** untuk mengetahui tingkat multicollinearity pada sebuah variabel independent."
   ]
  },
  {
   "cell_type": "code",
   "execution_count": 121,
   "metadata": {},
   "outputs": [
    {
     "data": {
      "text/html": [
       "<div>\n",
       "<style scoped>\n",
       "    .dataframe tbody tr th:only-of-type {\n",
       "        vertical-align: middle;\n",
       "    }\n",
       "\n",
       "    .dataframe tbody tr th {\n",
       "        vertical-align: top;\n",
       "    }\n",
       "\n",
       "    .dataframe thead th {\n",
       "        text-align: right;\n",
       "    }\n",
       "</style>\n",
       "<table border=\"1\" class=\"dataframe\">\n",
       "  <thead>\n",
       "    <tr style=\"text-align: right;\">\n",
       "      <th></th>\n",
       "      <th>feature</th>\n",
       "      <th>VIF</th>\n",
       "    </tr>\n",
       "  </thead>\n",
       "  <tbody>\n",
       "    <tr>\n",
       "      <th>0</th>\n",
       "      <td>age</td>\n",
       "      <td>7.752935</td>\n",
       "    </tr>\n",
       "    <tr>\n",
       "      <th>1</th>\n",
       "      <td>sex</td>\n",
       "      <td>2.006067</td>\n",
       "    </tr>\n",
       "    <tr>\n",
       "      <th>2</th>\n",
       "      <td>bmi</td>\n",
       "      <td>9.243496</td>\n",
       "    </tr>\n",
       "    <tr>\n",
       "      <th>3</th>\n",
       "      <td>children</td>\n",
       "      <td>1.801371</td>\n",
       "    </tr>\n",
       "    <tr>\n",
       "      <th>4</th>\n",
       "      <td>smoker</td>\n",
       "      <td>1.258097</td>\n",
       "    </tr>\n",
       "    <tr>\n",
       "      <th>5</th>\n",
       "      <td>region</td>\n",
       "      <td>2.527799</td>\n",
       "    </tr>\n",
       "  </tbody>\n",
       "</table>\n",
       "</div>"
      ],
      "text/plain": [
       "    feature       VIF\n",
       "0       age  7.752935\n",
       "1       sex  2.006067\n",
       "2       bmi  9.243496\n",
       "3  children  1.801371\n",
       "4    smoker  1.258097\n",
       "5    region  2.527799"
      ]
     },
     "execution_count": 121,
     "metadata": {},
     "output_type": "execute_result"
    }
   ],
   "source": [
    "vif_data = pd.DataFrame()\n",
    "X = data.iloc[:, :-1]\n",
    "y = data.iloc[:, -1]\n",
    "\n",
    "vif_data[\"feature\"] = X.columns\n",
    "  \n",
    "# calculating VIF for each feature\n",
    "vif_data[\"VIF\"] = [variance_inflation_factor(X.values, i)\n",
    "                          for i in range(len(X.columns))]\n",
    "\n",
    "vif_data\n",
    "  "
   ]
  },
  {
   "cell_type": "markdown",
   "metadata": {},
   "source": [
    "5. Evaluasi model yang Anda buat dengan nilai $R^2$"
   ]
  },
  {
   "cell_type": "code",
   "execution_count": 122,
   "metadata": {},
   "outputs": [
    {
     "data": {
      "text/plain": [
       "0.6555329270408832"
      ]
     },
     "execution_count": 122,
     "metadata": {},
     "output_type": "execute_result"
    }
   ],
   "source": [
    "data1 = data[['sex','children','smoker','region','charges']]\n",
    "X = data1.iloc[:, :4].values\n",
    "y = data1.iloc[:, -1].values\n",
    "y = y.reshape(len(y),1)\n",
    "\n",
    "# print(X.head())\n",
    "\n",
    "X_train, X_test, y_train, y_test = train_test_split(X, y, test_size=0.2, random_state=50)\n",
    "\n",
    "X_train_sm = sm.add_constant(X_train)\n",
    "\n",
    "lr = sm.OLS(y_train, X_train_sm).fit()\n",
    "\n",
    "X_test_sm = sm.add_constant(X_test)\n",
    "y_test_sm = sm.add_constant(y_test)\n",
    "\n",
    "y_test_pred = lr.predict(X_test_sm)\n",
    "r_squared_test = r2_score(y_test, y_test_pred)\n",
    "r_squared_test"
   ]
  },
  {
   "cell_type": "code",
   "execution_count": 123,
   "metadata": {},
   "outputs": [
    {
     "data": {
      "text/plain": [
       "0.7866124253214013"
      ]
     },
     "execution_count": 123,
     "metadata": {},
     "output_type": "execute_result"
    }
   ],
   "source": [
    "data2 = data\n",
    "X2 = data2.iloc[:, :-1].values\n",
    "y2 = data2.iloc[:, -1].values\n",
    "y2 = y2.reshape(len(y2),1)\n",
    "\n",
    "# print(X2.head())\n",
    "\n",
    "X2_train, X2_test, y2_train, y2_test = train_test_split(X2, y2, test_size=0.2, random_state=50)\n",
    "\n",
    "X2_train_sm = sm.add_constant(X2_train)\n",
    "\n",
    "lr = sm.OLS(y2_train, X2_train_sm).fit()\n",
    "\n",
    "X2_test_sm = sm.add_constant(X2_test)\n",
    "y2_test_sm = sm.add_constant(y2_test)\n",
    "\n",
    "y2_test_pred = lr.predict(X2_test_sm)\n",
    "r_squared_test2 = r2_score(y2_test, y2_test_pred)\n",
    "r_squared_test2"
   ]
  },
  {
   "cell_type": "code",
   "execution_count": 126,
   "metadata": {},
   "outputs": [
    {
     "data": {
      "text/plain": [
       "0.14648534334434482"
      ]
     },
     "execution_count": 126,
     "metadata": {},
     "output_type": "execute_result"
    }
   ],
   "source": [
    "data3 = data[['age','bmi','charges']]\n",
    "X3 = data3.iloc[:, :-1].values\n",
    "y3 = data3.iloc[:, -1].values\n",
    "y3 = y3.reshape(len(y),1)\n",
    "\n",
    "# print(X3.head())\n",
    "\n",
    "X3_train, X3_test, y3_train, y3_test = train_test_split(X3, y3, test_size=0.2, random_state=50)\n",
    "\n",
    "X3_train_sm = sm.add_constant(X3_train)\n",
    "\n",
    "lr = sm.OLS(y3_train, X3_train_sm).fit()\n",
    "\n",
    "X3_test_sm = sm.add_constant(X3_test)\n",
    "y3_test_sm = sm.add_constant(y3_test)\n",
    "\n",
    "y3_test_pred = lr.predict(X3_test_sm)\n",
    "r_squared_test3 = r2_score(y3_test, y3_test_pred)\n",
    "r_squared_test3"
   ]
  },
  {
   "cell_type": "markdown",
   "metadata": {},
   "source": [
    "6. Simpulkan, variabel independen apa saja yang dapat digunakan untuk menghasilkan model regresi yang baik pada kasus _medical insurance costs_?"
   ]
  },
  {
   "cell_type": "markdown",
   "metadata": {},
   "source": [
    "Untuk menghasilkan model regresi yang baik pada kasus _medical insurance costs_ membutuhkan semua variable independent"
   ]
  }
 ],
 "metadata": {
  "kernelspec": {
   "display_name": "Python 3.10.7 64-bit",
   "language": "python",
   "name": "python3"
  },
  "language_info": {
   "codemirror_mode": {
    "name": "ipython",
    "version": 3
   },
   "file_extension": ".py",
   "mimetype": "text/x-python",
   "name": "python",
   "nbconvert_exporter": "python",
   "pygments_lexer": "ipython3",
   "version": "3.10.7"
  },
  "orig_nbformat": 4,
  "vscode": {
   "interpreter": {
    "hash": "e2bd553e7001daf5eeb69e1661d0b9033f7a52c956da7d0f70fc9bc4480b30bf"
   }
  }
 },
 "nbformat": 4,
 "nbformat_minor": 2
}
